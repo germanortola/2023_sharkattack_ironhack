{
 "cells": [
  {
   "cell_type": "code",
   "execution_count": 2,
   "metadata": {},
   "outputs": [],
   "source": [
    "import pandas as pd\n",
    "import numpy as np\n",
    "import seaborn as sns\n",
    "import matplotlib as plt\n",
    "import pandas_profiling\n",
    "import urllib.request\n",
    "import datetime\n",
    "import plotly.express as px\n",
    "import plotly.graph_objects as go"
   ]
  },
  {
   "cell_type": "code",
   "execution_count": null,
   "metadata": {},
   "outputs": [],
   "source": [
    "# df = pd.read_csv('attacks.csv', encoding='latin1')"
   ]
  },
  {
   "attachments": {},
   "cell_type": "markdown",
   "metadata": {},
   "source": [
    "Load the raw data from the original .csv file into a new dataframe named 'df', with Pandas."
   ]
  },
  {
   "cell_type": "code",
   "execution_count": null,
   "metadata": {},
   "outputs": [],
   "source": [
    "# print(df.head())\n",
    "# print(df.shape)"
   ]
  },
  {
   "cell_type": "code",
   "execution_count": 1,
   "metadata": {},
   "outputs": [],
   "source": [
    "# df = df.drop(df.index[6304:])\n"
   ]
  },
  {
   "cell_type": "code",
   "execution_count": null,
   "metadata": {},
   "outputs": [],
   "source": [
    "# df.to_csv('clean_drop_empty_rows.csv', index=True)"
   ]
  },
  {
   "cell_type": "code",
   "execution_count": null,
   "metadata": {},
   "outputs": [],
   "source": [
    "# df = df.drop(columns=['Unnamed: 22', 'Unnamed: 23', 'original order', 'href', 'href formula'], axis=1)\n",
    "\n",
    "# df.sample(3)"
   ]
  },
  {
   "cell_type": "code",
   "execution_count": null,
   "metadata": {},
   "outputs": [],
   "source": [
    "# df.to_csv('clean_drop_unnecesary_columns.csv', index=True)\n",
    "# df = pd.read_csv('clean_drop_unnecesary_columns.csv')\n",
    "\n",
    "# df.sample(3)"
   ]
  },
  {
   "cell_type": "code",
   "execution_count": null,
   "metadata": {},
   "outputs": [],
   "source": [
    "# convert the \"Date\" column to datetime format\n",
    "# df['Date'] = pd.to_datetime(df['Date'], errors='coerce')\n",
    "\n",
    "# extract the month and day from the \"Date\" column and create new columns for them\n",
    "# df['Month'] = df['Date'].dt.month\n",
    "# df['Day'] = df['Date'].dt.day\n",
    "\n",
    "# drop the original \"Date\" column\n",
    "# df.drop(columns=['Date'], inplace=True)"
   ]
  },
  {
   "cell_type": "code",
   "execution_count": null,
   "metadata": {},
   "outputs": [],
   "source": [
    "# df.to_csv('clean_drop_unnecesary_columns_v2.csv', index=True)\n",
    "\n",
    "# df = pd.read_csv('clean_drop_unnecesary_columns_v2.csv')\n",
    "\n",
    "# df.sample(3)"
   ]
  },
  {
   "cell_type": "code",
   "execution_count": null,
   "metadata": {},
   "outputs": [],
   "source": [
    "# pd.isnull(df).sum()"
   ]
  },
  {
   "cell_type": "code",
   "execution_count": null,
   "metadata": {},
   "outputs": [],
   "source": [
    "# df['Day'].unique()"
   ]
  },
  {
   "cell_type": "code",
   "execution_count": null,
   "metadata": {},
   "outputs": [],
   "source": [
    "# temp_dict=dict(df['Age'].value_counts())\n",
    "\n",
    "# temp_dict_total_nulls=dict(pd.isnull(df).sum())"
   ]
  },
  {
   "cell_type": "code",
   "execution_count": null,
   "metadata": {},
   "outputs": [],
   "source": [
    "# df.fillna(value=np.nan, inplace=True)"
   ]
  },
  {
   "cell_type": "code",
   "execution_count": null,
   "metadata": {},
   "outputs": [],
   "source": [
    "# df.to_csv('clean_null_fill_v1.csv', index=True)"
   ]
  },
  {
   "cell_type": "code",
   "execution_count": null,
   "metadata": {},
   "outputs": [],
   "source": [
    "# df = df.groupby('Age').filter(lambda x: len(x) > 3)"
   ]
  },
  {
   "cell_type": "code",
   "execution_count": null,
   "metadata": {},
   "outputs": [],
   "source": [
    "# df['Age'].replace({'teen': 16, 'Teen': 16,'30s':35}, inplace=True)"
   ]
  },
  {
   "cell_type": "code",
   "execution_count": null,
   "metadata": {},
   "outputs": [],
   "source": [
    "# df['Sex'].replace({'20s': 25}, inplace=True)"
   ]
  },
  {
   "cell_type": "code",
   "execution_count": null,
   "metadata": {},
   "outputs": [],
   "source": [
    "# df[\"Country\"].unique()"
   ]
  },
  {
   "cell_type": "code",
   "execution_count": null,
   "metadata": {},
   "outputs": [],
   "source": [
    "# df.columns = [i.capitalize().replace(\" \", \"\") for i in list(df.columns)]"
   ]
  },
  {
   "cell_type": "code",
   "execution_count": null,
   "metadata": {},
   "outputs": [],
   "source": [
    "# df = df.drop(columns=['Unnamed:0.1', 'Unnamed:0', 'Casenumber.1', 'Casenumber.2', 'Pdf'], axis=1)"
   ]
  },
  {
   "cell_type": "code",
   "execution_count": null,
   "metadata": {},
   "outputs": [],
   "source": [
    "# dict(df['Fatal(y/n)'].value_counts())"
   ]
  },
  {
   "cell_type": "code",
   "execution_count": null,
   "metadata": {},
   "outputs": [],
   "source": [
    "# df = df[~df['Fatal(y/n)'].isin(['UNKNOWN', 'M', '2017'])]\n"
   ]
  },
  {
   "cell_type": "code",
   "execution_count": null,
   "metadata": {},
   "outputs": [],
   "source": [
    "# duplicates = df.duplicated().sum()\n",
    "# print(\"Number of duplicate rows: \", duplicates)\n",
    "\n",
    "# df = df.drop_duplicates(keep='first')"
   ]
  },
  {
   "cell_type": "code",
   "execution_count": null,
   "metadata": {},
   "outputs": [],
   "source": [
    "df = pd.read_csv('clean_columns_v7.csv')"
   ]
  },
  {
   "cell_type": "code",
   "execution_count": null,
   "metadata": {},
   "outputs": [],
   "source": [
    "def set_hemisphere(country):\n",
    "    south_locations = ['BRAZIL', 'SOUTH AFRICA', 'ECUADOR', 'REUNION', 'MOZAMBIQUE', 'URUGUAY', 'TANZANIA', 'CHILE', \n",
    "                        'ARGENTINA', 'AUSTRALIA', 'NEW ZEALAND', 'FALKLAND ISLANDS', 'MADAGASCAR']\n",
    "    north_locations = ['USA', 'INDIA', 'ENGLAND', 'MALDIVES', 'CUBA', 'THAILAND', 'BAHAMAS', 'MALAYSIA', 'JAPAN', 'EGYPT', \n",
    "                        'STHELENA, British overseas territory', 'MEXICO', 'UNITED KINGDOM', 'UNITED ARAB EMIRATES', \n",
    "                        'PHILIPPINES', 'INDONESIA', 'COLUMBIA', 'FRENCH POLYNESIA', 'CAPE VERDE', 'Fiji', \n",
    "                        'CAYMAN ISLANDS', 'ARUBA', 'PUERTO RICO', 'ITALY', 'MAURITIUS', 'ST. MARTIN', 'PAPUA NEW GUINEA', \n",
    "                        'KIRIBATI', 'ISRAEL', 'FRANCE', 'DIEGO GARCIA', 'JAMAICA', 'PALESTINIAN TERRITORIES', 'GUAM', \n",
    "                        'SEYCHELLES', 'NIGERIA', 'TONGA', 'SCOTLAND', 'TRINIDAD & TOBAGO', 'CANADA', 'CROATIA', 'FIJI', \n",
    "                        'SAUDI ARABIA', 'TAIWAN', 'DOMINICAN REPUBLIC', 'KENYA', 'RUSSIA', 'TURKS & CAICOS', \n",
    "                        'UNITED ARAB EMIRATES (UAE)', 'SAMOA', 'SOLOMON ISLANDS', 'SOUTH KOREA', 'MALTA', 'VIETNAM', \n",
    "                        'PANAMA', 'AZORES', 'BRITISH VIRGIN ISLANDS', 'NORWAY', 'BELIZE', 'ST. MAARTIN', 'GRAND CAYMAN', 'CHINA', \n",
    "                        'VANUATU', 'SRI LANKA', 'MARSHALL ISLANDS', 'HONG KONG', 'SOMALIA', 'BERMUDA', 'GREECE', \n",
    "                        'NORTH ATLANTIC OCEAN', 'PORTUGAL', 'WESTERN SAMOA', 'BRITISH ISLES', 'MICRONESIA', 'PALAU', 'GRENADA', \n",
    "                        'IRAQ', 'TURKEY', 'SINGAPORE', 'NEW BRITAIN', 'NEW GUINEA', 'NORTH PACIFIC OCEAN', \n",
    "                        'FEDERATED STATES OF MICRONESIA', 'ADMIRALTY ISLANDS', 'BRITISH WEST INDIES', 'MID ATLANTIC OCEAN', \n",
    "                        'JOHNSTON ISLAND', 'NORTH SEA', 'CARIBBEAN SEA', 'AMERICAN SAMOA', 'ANDAMAN / NICOBAR ISLANDAS', 'IRAN', \n",
    "                        'SIERRA LEONE', 'BARBADOS', 'CYPRUS', 'HAITI', 'BRITISH NEW GUINEA', 'HONDURAS', \n",
    "                        'GUINEA', 'COSTA RICA', 'EL SALVADOR', 'SENEGAL', 'SOUTH CHINA SEA', 'NORTH ATLANTIC OCEAN']\n",
    "    unknown_locations = ['nan', 'Unknown', 'PACIFIC OCEAN ', 'ATLANTIC OCEAN', 'ATLANTIC OCEAN']\n",
    "\n",
    "    if country in north_locations:\n",
    "        return 'North'\n",
    "    elif country in south_locations:\n",
    "        return 'South'\n",
    "    elif country in unknown_locations or pd.isnull(country):\n",
    "        return 'Unknown'\n",
    "    else:\n",
    "        return 'Unknown'\n",
    "\n"
   ]
  },
  {
   "cell_type": "code",
   "execution_count": null,
   "metadata": {},
   "outputs": [],
   "source": [
    "df[\"Hemisphere\"] = df[\"Country\"].apply(set_hemisphere)"
   ]
  },
  {
   "cell_type": "code",
   "execution_count": null,
   "metadata": {},
   "outputs": [],
   "source": [
    "# df['Weekday'].value_counts()"
   ]
  },
  {
   "cell_type": "code",
   "execution_count": null,
   "metadata": {},
   "outputs": [],
   "source": [
    "# df['Sex '].value_counts()"
   ]
  },
  {
   "cell_type": "code",
   "execution_count": null,
   "metadata": {},
   "outputs": [],
   "source": [
    "# df['Fatal (Y/N)'].value_counts()"
   ]
  },
  {
   "cell_type": "code",
   "execution_count": null,
   "metadata": {},
   "outputs": [],
   "source": [
    "hemisphere_not_unknown = (df['Hemisphere'] != 'Unknown')"
   ]
  },
  {
   "cell_type": "code",
   "execution_count": null,
   "metadata": {},
   "outputs": [],
   "source": [
    "year_1900_filter = (df['Year'] >= 1900)"
   ]
  },
  {
   "cell_type": "code",
   "execution_count": null,
   "metadata": {},
   "outputs": [],
   "source": [
    "filter_df_hemisphere = df[hemisphere_not_unknown & year_1900_filter]\n",
    "\n",
    "filter_df_hemisphere.sample(3)"
   ]
  },
  {
   "cell_type": "code",
   "execution_count": null,
   "metadata": {},
   "outputs": [],
   "source": [
    "def fill_weekday(row):\n",
    "    try:\n",
    "        date = pd.to_datetime(f\"{int(row['Year']):04d}{int(row['Month']):02d}{int(row['Day']):02d}\", format='%Y%m%d')\n",
    "        return date.strftime('%A')\n",
    "    except ValueError:\n",
    "        return 'Unknown'\n",
    "    \n",
    "# df['Weekday'] = df.apply(fill_weekday, axis=1)"
   ]
  },
  {
   "cell_type": "code",
   "execution_count": null,
   "metadata": {},
   "outputs": [],
   "source": []
  },
  {
   "cell_type": "code",
   "execution_count": null,
   "metadata": {},
   "outputs": [],
   "source": []
  },
  {
   "cell_type": "code",
   "execution_count": null,
   "metadata": {},
   "outputs": [],
   "source": []
  },
  {
   "cell_type": "code",
   "execution_count": null,
   "metadata": {},
   "outputs": [],
   "source": []
  },
  {
   "cell_type": "code",
   "execution_count": null,
   "metadata": {},
   "outputs": [],
   "source": []
  },
  {
   "cell_type": "code",
   "execution_count": null,
   "metadata": {},
   "outputs": [],
   "source": []
  },
  {
   "cell_type": "code",
   "execution_count": null,
   "metadata": {},
   "outputs": [],
   "source": []
  },
  {
   "cell_type": "code",
   "execution_count": null,
   "metadata": {},
   "outputs": [],
   "source": []
  },
  {
   "cell_type": "code",
   "execution_count": null,
   "metadata": {},
   "outputs": [],
   "source": []
  },
  {
   "cell_type": "code",
   "execution_count": null,
   "metadata": {},
   "outputs": [],
   "source": []
  }
 ],
 "metadata": {
  "kernelspec": {
   "display_name": "ironhack",
   "language": "python",
   "name": "python3"
  },
  "language_info": {
   "codemirror_mode": {
    "name": "ipython",
    "version": 3
   },
   "file_extension": ".py",
   "mimetype": "text/x-python",
   "name": "python",
   "nbconvert_exporter": "python",
   "pygments_lexer": "ipython3",
   "version": "3.10.4"
  },
  "orig_nbformat": 4,
  "vscode": {
   "interpreter": {
    "hash": "4fb3542bd4955df1568bd30556108f2a509a772a1c7029bb09d83fc983cd9288"
   }
  }
 },
 "nbformat": 4,
 "nbformat_minor": 2
}
