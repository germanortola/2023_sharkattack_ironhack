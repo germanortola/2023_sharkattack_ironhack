{
 "cells": [
  {
   "attachments": {},
   "cell_type": "markdown",
   "metadata": {},
   "source": [
    "## Transformation\n",
    "\n",
    "This notebook contains the code for transforming the dataframe after the cleaning process, and doing the first actual approach to analysis."
   ]
  },
  {
   "attachments": {},
   "cell_type": "markdown",
   "metadata": {},
   "source": [
    "#### Importing libraries"
   ]
  },
  {
   "cell_type": "code",
   "execution_count": 2,
   "metadata": {},
   "outputs": [],
   "source": [
    "import pandas as pd\n",
    "import numpy as np\n",
    "import seaborn as sns\n",
    "import matplotlib as plt\n",
    "import pandas_profiling\n",
    "import urllib.request\n",
    "import datetime\n",
    "import plotly.express as px\n",
    "import plotly.graph_objects as go\n",
    "import re"
   ]
  },
  {
   "cell_type": "markdown",
   "metadata": {},
   "source": [
    "#### Load the dataframe from the .csv file"
   ]
  },
  {
   "cell_type": "code",
   "execution_count": 3,
   "metadata": {},
   "outputs": [],
   "source": [
    "df = pd.read_csv('clean_columns_v7.csv')"
   ]
  },
  {
   "cell_type": "markdown",
   "metadata": {},
   "source": [
    "### Define subsets for later analysis "
   ]
  },
  {
   "cell_type": "markdown",
   "metadata": {},
   "source": [
    "##### Frequency of occurances for each variable doing a 'value_counts', as well as the corresponding percentage with the 'normalize' parameter"
   ]
  },
  {
   "cell_type": "code",
   "execution_count": null,
   "metadata": {},
   "outputs": [],
   "source": [
    "activity_freq_norm = df['Activity'].value_counts(dropna=True, normalize=True)\n",
    "activity_freq = df['Activity'].value_counts(dropna=True)\n"
   ]
  },
  {
   "cell_type": "code",
   "execution_count": null,
   "metadata": {},
   "outputs": [],
   "source": [
    "country_freq_norm = df['Country'].value_counts(dropna=True, normalize=True)\n",
    "country_freq = df['Country'].value_counts(dropna=True)\n"
   ]
  },
  {
   "cell_type": "code",
   "execution_count": null,
   "metadata": {},
   "outputs": [],
   "source": [
    "sex_freq_norm = df['Sex'].value_counts(dropna=True, normalize=True)\n",
    "sex_freq = df['Sex'].value_counts(dropna=True)\n"
   ]
  },
  {
   "cell_type": "code",
   "execution_count": null,
   "metadata": {},
   "outputs": [],
   "source": [
    "fatal_freq_norm = df['Fatal(y/n)'].value_counts(dropna=True, normalize=True)\n",
    "fatal_freq = df['Fatal(y/n)'].value_counts(dropna=True)\n"
   ]
  },
  {
   "cell_type": "code",
   "execution_count": null,
   "metadata": {},
   "outputs": [],
   "source": [
    "hemisphere_freq_norm = df['Hemisphere'].value_counts(dropna=True, normalize=True)\n",
    "hemisphere_freq = df['Hemisphere'].value_counts(dropna=True)\n"
   ]
  },
  {
   "cell_type": "code",
   "execution_count": null,
   "metadata": {},
   "outputs": [],
   "source": [
    "age_freq_norm = df['Age'].value_counts(dropna=True, normalize=True)\n",
    "age_freq = df['Age'].value_counts(dropna=True)\n"
   ]
  },
  {
   "cell_type": "code",
   "execution_count": null,
   "metadata": {},
   "outputs": [],
   "source": [
    "year_freq_norm = df['Year'].value_counts(dropna=True, normalize=True)\n",
    "year_freq = df['Year'].value_counts(dropna=True)\n"
   ]
  },
  {
   "cell_type": "code",
   "execution_count": null,
   "metadata": {},
   "outputs": [],
   "source": [
    "weekday_freq_norm = df['Weekday'].value_counts(dropna=True, normalize=True)\n",
    "weekday_freq = df['Weekday'].value_counts(dropna=True)\n"
   ]
  },
  {
   "attachments": {},
   "cell_type": "markdown",
   "metadata": {},
   "source": [
    "##### Define FUNCTION\n",
    "\n",
    "'clean_activity' is a user defined function that will be called when cleaning and standarizing the 'Activity' column values.\n",
    "The conditions search for the specified patterns through regex, and return the corresponding new value replacing the old one.\n",
    "Then, the dataframe is updated applying this function on the specified column."
   ]
  },
  {
   "cell_type": "code",
   "execution_count": null,
   "metadata": {},
   "outputs": [],
   "source": [
    "def clean_activity(activity):\n",
    "    activity = str(activity).lower()\n",
    "    if re.search(r'surf|board', activity):\n",
    "        return 'surf'\n",
    "    elif re.search(r'divi|dive|snor', activity):\n",
    "        return 'dive'\n",
    "    elif re.search(r'wad|fish', activity):\n",
    "        return 'fishing'\n",
    "    elif re.search(r'resc|escap|swim|bath|float', activity):\n",
    "        return 'swimming'\n",
    "    elif re.search(r'tread|splash|jump|stand|play', activity):\n",
    "        return 'standing'\n",
    "    elif re.search(r'kaya|kaja|paddl', activity):\n",
    "        return 'paddling'\n",
    "    elif re.search(r'shark', activity):\n",
    "        return 'shark activities'\n",
    "    else:\n",
    "        return 'other'\n",
    "\n",
    "df['Activity'] = df['Activity'].apply(clean_activity)"
   ]
  },
  {
   "attachments": {},
   "cell_type": "markdown",
   "metadata": {},
   "source": [
    "Here, a new column called 'Sex_num' is created in the dataframe, and populated with values of '1' and '2', by mapping with the original 'Sex' column which has values of 'M' and 'F'.\n",
    "This was done to cover for a possible need to use numerical values in further analysis."
   ]
  },
  {
   "cell_type": "code",
   "execution_count": null,
   "metadata": {},
   "outputs": [],
   "source": [
    "df['Sex_num'] = df['Sex'].map({'M': 1, 'F': 2})"
   ]
  },
  {
   "cell_type": "code",
   "execution_count": null,
   "metadata": {},
   "outputs": [],
   "source": []
  },
  {
   "cell_type": "code",
   "execution_count": null,
   "metadata": {},
   "outputs": [],
   "source": []
  },
  {
   "cell_type": "code",
   "execution_count": null,
   "metadata": {},
   "outputs": [],
   "source": []
  },
  {
   "cell_type": "code",
   "execution_count": null,
   "metadata": {},
   "outputs": [],
   "source": []
  }
 ],
 "metadata": {
  "kernelspec": {
   "display_name": "ironhack",
   "language": "python",
   "name": "python3"
  },
  "language_info": {
   "codemirror_mode": {
    "name": "ipython",
    "version": 3
   },
   "file_extension": ".py",
   "mimetype": "text/x-python",
   "name": "python",
   "nbconvert_exporter": "python",
   "pygments_lexer": "ipython3",
   "version": "3.10.4"
  },
  "orig_nbformat": 4,
  "vscode": {
   "interpreter": {
    "hash": "4fb3542bd4955df1568bd30556108f2a509a772a1c7029bb09d83fc983cd9288"
   }
  }
 },
 "nbformat": 4,
 "nbformat_minor": 2
}
